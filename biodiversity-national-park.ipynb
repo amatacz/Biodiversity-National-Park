{
 "cells": [
  {
   "cell_type": "markdown",
   "id": "bde7590e",
   "metadata": {},
   "source": [
    "# Biodiversity in US National Park analysis"
   ]
  },
  {
   "cell_type": "markdown",
   "id": "5a15df6f",
   "metadata": {},
   "source": [
    "## Project Scope"
   ]
  },
  {
   "cell_type": "markdown",
   "id": "eb2bc8f5",
   "metadata": {},
   "source": [
    "Goal of this project is to get insights of endangered species in US National Parks such as **Great Smoky Mountains National Park**, **Yosemite National Park**, **Yellowstone National Park** and **Bryce National Park**.<br>Data provided by National Parks Service contains two files with observations and detail about species and its conservation status."
   ]
  },
  {
   "cell_type": "markdown",
   "id": "c4adf3f8",
   "metadata": {},
   "source": [
    "## Data and libraries importing"
   ]
  },
  {
   "cell_type": "code",
   "execution_count": 686,
   "id": "71a09bb9",
   "metadata": {},
   "outputs": [],
   "source": [
    "import matplotlib as plt\n",
    "import pandas as pd\n",
    "import numpy as np\n",
    "import seaborn as sns\n",
    "\n",
    "sns.set_style('darkgrid')\n",
    "sns.set_context('paper')\n",
    "sns.set(rc={\"figure.figsize\":(10, 10)})"
   ]
  },
  {
   "cell_type": "code",
   "execution_count": 687,
   "id": "f4194eb0",
   "metadata": {},
   "outputs": [],
   "source": [
    "observation = pd.read_csv(\"observations.csv\")\n",
    "species = pd.read_csv(\"species_info.csv\")\n",
    "\n",
    "biodiv = pd.merge(observation, species)"
   ]
  },
  {
   "cell_type": "code",
   "execution_count": 688,
   "id": "1f11e7be",
   "metadata": {},
   "outputs": [
    {
     "data": {
      "text/html": [
       "<div>\n",
       "<style scoped>\n",
       "    .dataframe tbody tr th:only-of-type {\n",
       "        vertical-align: middle;\n",
       "    }\n",
       "\n",
       "    .dataframe tbody tr th {\n",
       "        vertical-align: top;\n",
       "    }\n",
       "\n",
       "    .dataframe thead th {\n",
       "        text-align: right;\n",
       "    }\n",
       "</style>\n",
       "<table border=\"1\" class=\"dataframe\">\n",
       "  <thead>\n",
       "    <tr style=\"text-align: right;\">\n",
       "      <th></th>\n",
       "      <th>scientific_name</th>\n",
       "      <th>park_name</th>\n",
       "      <th>observations</th>\n",
       "      <th>category</th>\n",
       "      <th>common_names</th>\n",
       "      <th>conservation_status</th>\n",
       "    </tr>\n",
       "  </thead>\n",
       "  <tbody>\n",
       "    <tr>\n",
       "      <th>0</th>\n",
       "      <td>Vicia benghalensis</td>\n",
       "      <td>Great Smoky Mountains National Park</td>\n",
       "      <td>68</td>\n",
       "      <td>Vascular Plant</td>\n",
       "      <td>Purple Vetch, Reddish Tufted Vetch</td>\n",
       "      <td>NaN</td>\n",
       "    </tr>\n",
       "    <tr>\n",
       "      <th>1</th>\n",
       "      <td>Vicia benghalensis</td>\n",
       "      <td>Yosemite National Park</td>\n",
       "      <td>148</td>\n",
       "      <td>Vascular Plant</td>\n",
       "      <td>Purple Vetch, Reddish Tufted Vetch</td>\n",
       "      <td>NaN</td>\n",
       "    </tr>\n",
       "    <tr>\n",
       "      <th>2</th>\n",
       "      <td>Vicia benghalensis</td>\n",
       "      <td>Yellowstone National Park</td>\n",
       "      <td>247</td>\n",
       "      <td>Vascular Plant</td>\n",
       "      <td>Purple Vetch, Reddish Tufted Vetch</td>\n",
       "      <td>NaN</td>\n",
       "    </tr>\n",
       "    <tr>\n",
       "      <th>3</th>\n",
       "      <td>Vicia benghalensis</td>\n",
       "      <td>Bryce National Park</td>\n",
       "      <td>104</td>\n",
       "      <td>Vascular Plant</td>\n",
       "      <td>Purple Vetch, Reddish Tufted Vetch</td>\n",
       "      <td>NaN</td>\n",
       "    </tr>\n",
       "    <tr>\n",
       "      <th>4</th>\n",
       "      <td>Neovison vison</td>\n",
       "      <td>Great Smoky Mountains National Park</td>\n",
       "      <td>77</td>\n",
       "      <td>Mammal</td>\n",
       "      <td>American Mink</td>\n",
       "      <td>NaN</td>\n",
       "    </tr>\n",
       "  </tbody>\n",
       "</table>\n",
       "</div>"
      ],
      "text/plain": [
       "      scientific_name                            park_name  observations  \\\n",
       "0  Vicia benghalensis  Great Smoky Mountains National Park            68   \n",
       "1  Vicia benghalensis               Yosemite National Park           148   \n",
       "2  Vicia benghalensis            Yellowstone National Park           247   \n",
       "3  Vicia benghalensis                  Bryce National Park           104   \n",
       "4      Neovison vison  Great Smoky Mountains National Park            77   \n",
       "\n",
       "         category                        common_names conservation_status  \n",
       "0  Vascular Plant  Purple Vetch, Reddish Tufted Vetch                 NaN  \n",
       "1  Vascular Plant  Purple Vetch, Reddish Tufted Vetch                 NaN  \n",
       "2  Vascular Plant  Purple Vetch, Reddish Tufted Vetch                 NaN  \n",
       "3  Vascular Plant  Purple Vetch, Reddish Tufted Vetch                 NaN  \n",
       "4          Mammal                       American Mink                 NaN  "
      ]
     },
     "execution_count": 688,
     "metadata": {},
     "output_type": "execute_result"
    }
   ],
   "source": [
    "biodiv.head()"
   ]
  },
  {
   "cell_type": "code",
   "execution_count": 689,
   "id": "a33bce72",
   "metadata": {},
   "outputs": [
    {
     "data": {
      "text/plain": [
       "scientific_name        object\n",
       "park_name              object\n",
       "observations            int64\n",
       "category               object\n",
       "common_names           object\n",
       "conservation_status    object\n",
       "dtype: object"
      ]
     },
     "execution_count": 689,
     "metadata": {},
     "output_type": "execute_result"
    }
   ],
   "source": [
    "biodiv.dtypes"
   ]
  },
  {
   "cell_type": "code",
   "execution_count": 690,
   "id": "b6d8327c",
   "metadata": {},
   "outputs": [
    {
     "name": "stdout",
     "output_type": "stream",
     "text": [
      "['Great Smoky Mountains National Park' 'Yosemite National Park'\n",
      " 'Yellowstone National Park' 'Bryce National Park']\n",
      "['Vascular Plant' 'Mammal' 'Bird' 'Nonvascular Plant' 'Amphibian'\n",
      " 'Reptile' 'Fish']\n",
      "[nan 'Species of Concern' 'Threatened' 'Endangered' 'In Recovery']\n",
      "category\n",
      "Amphibian              328\n",
      "Bird                  2364\n",
      "Fish                   524\n",
      "Mammal                1200\n",
      "Nonvascular Plant     1332\n",
      "Reptile                324\n",
      "Vascular Plant       19560\n",
      "Name: category, dtype: int64\n"
     ]
    }
   ],
   "source": [
    "print(biodiv['park_name'].unique())\n",
    "print(biodiv['category'].unique())\n",
    "print(biodiv['conservation_status'].unique())\n",
    "print(biodiv.groupby(['category'])['category'].count())"
   ]
  },
  {
   "cell_type": "code",
   "execution_count": 691,
   "id": "6a58ff7b",
   "metadata": {},
   "outputs": [],
   "source": [
    "biodiv['conservation_status'] = biodiv['conservation_status'].fillna('No intervention')"
   ]
  },
  {
   "cell_type": "code",
   "execution_count": 692,
   "id": "3f60c4c5",
   "metadata": {},
   "outputs": [
    {
     "name": "stdout",
     "output_type": "stream",
     "text": [
      "['No intervention' 'Species of Concern' 'Threatened' 'Endangered'\n",
      " 'In Recovery']\n"
     ]
    }
   ],
   "source": [
    "print(biodiv['conservation_status'].unique())"
   ]
  },
  {
   "cell_type": "code",
   "execution_count": 693,
   "id": "16687d00",
   "metadata": {},
   "outputs": [],
   "source": [
    "codes = {'No intervention':1 , 'Species of Concern':3, 'Threatened':5,\n",
    "       'Endangered':4, 'In Recovery':2}"
   ]
  },
  {
   "cell_type": "code",
   "execution_count": 694,
   "id": "20ac46b1",
   "metadata": {},
   "outputs": [],
   "source": [
    "biodiv['conservation_status_code'] = biodiv['conservation_status'].map(codes)"
   ]
  },
  {
   "cell_type": "code",
   "execution_count": 695,
   "id": "2536fbda",
   "metadata": {},
   "outputs": [
    {
     "name": "stdout",
     "output_type": "stream",
     "text": [
      "park_name\n",
      "Bryce National Park                     633291\n",
      "Great Smoky Mountains National Park     474863\n",
      "Yellowstone National Park              1587641\n",
      "Yosemite National Park                  949452\n",
      "Name: observations, dtype: int64\n"
     ]
    }
   ],
   "source": [
    "print(total_obs)"
   ]
  },
  {
   "cell_type": "code",
   "execution_count": 696,
   "id": "6605b7c0",
   "metadata": {},
   "outputs": [],
   "source": [
    "biodiv2 = pd.merge(biodiv, total_obs, left_on='park_name', right_on='park_name')\n",
    "biodiv2 = biodiv2.rename(columns={'observations_x' : 'observations', 'observations_y':'park_observations'})\n",
    "biodiv2['is_protected'] = biodiv2['conservation_status'] != \"No intervention\""
   ]
  },
  {
   "cell_type": "code",
   "execution_count": 697,
   "id": "36fc6b74",
   "metadata": {},
   "outputs": [
    {
     "data": {
      "text/html": [
       "<div>\n",
       "<style scoped>\n",
       "    .dataframe tbody tr th:only-of-type {\n",
       "        vertical-align: middle;\n",
       "    }\n",
       "\n",
       "    .dataframe tbody tr th {\n",
       "        vertical-align: top;\n",
       "    }\n",
       "\n",
       "    .dataframe thead th {\n",
       "        text-align: right;\n",
       "    }\n",
       "</style>\n",
       "<table border=\"1\" class=\"dataframe\">\n",
       "  <thead>\n",
       "    <tr style=\"text-align: right;\">\n",
       "      <th></th>\n",
       "      <th>scientific_name</th>\n",
       "      <th>park_name</th>\n",
       "      <th>observations</th>\n",
       "      <th>category</th>\n",
       "      <th>common_names</th>\n",
       "      <th>conservation_status</th>\n",
       "      <th>conservation_status_code</th>\n",
       "      <th>park_observations</th>\n",
       "      <th>is_protected</th>\n",
       "    </tr>\n",
       "  </thead>\n",
       "  <tbody>\n",
       "    <tr>\n",
       "      <th>0</th>\n",
       "      <td>Vicia benghalensis</td>\n",
       "      <td>Great Smoky Mountains National Park</td>\n",
       "      <td>68</td>\n",
       "      <td>Vascular Plant</td>\n",
       "      <td>Purple Vetch, Reddish Tufted Vetch</td>\n",
       "      <td>No intervention</td>\n",
       "      <td>1</td>\n",
       "      <td>474863</td>\n",
       "      <td>False</td>\n",
       "    </tr>\n",
       "    <tr>\n",
       "      <th>1</th>\n",
       "      <td>Neovison vison</td>\n",
       "      <td>Great Smoky Mountains National Park</td>\n",
       "      <td>77</td>\n",
       "      <td>Mammal</td>\n",
       "      <td>American Mink</td>\n",
       "      <td>No intervention</td>\n",
       "      <td>1</td>\n",
       "      <td>474863</td>\n",
       "      <td>False</td>\n",
       "    </tr>\n",
       "    <tr>\n",
       "      <th>2</th>\n",
       "      <td>Prunus subcordata</td>\n",
       "      <td>Great Smoky Mountains National Park</td>\n",
       "      <td>72</td>\n",
       "      <td>Vascular Plant</td>\n",
       "      <td>Klamath Plum</td>\n",
       "      <td>No intervention</td>\n",
       "      <td>1</td>\n",
       "      <td>474863</td>\n",
       "      <td>False</td>\n",
       "    </tr>\n",
       "    <tr>\n",
       "      <th>3</th>\n",
       "      <td>Abutilon theophrasti</td>\n",
       "      <td>Great Smoky Mountains National Park</td>\n",
       "      <td>85</td>\n",
       "      <td>Vascular Plant</td>\n",
       "      <td>Velvetleaf</td>\n",
       "      <td>No intervention</td>\n",
       "      <td>1</td>\n",
       "      <td>474863</td>\n",
       "      <td>False</td>\n",
       "    </tr>\n",
       "    <tr>\n",
       "      <th>4</th>\n",
       "      <td>Githopsis specularioides</td>\n",
       "      <td>Great Smoky Mountains National Park</td>\n",
       "      <td>85</td>\n",
       "      <td>Vascular Plant</td>\n",
       "      <td>Common Bluecup</td>\n",
       "      <td>No intervention</td>\n",
       "      <td>1</td>\n",
       "      <td>474863</td>\n",
       "      <td>False</td>\n",
       "    </tr>\n",
       "    <tr>\n",
       "      <th>...</th>\n",
       "      <td>...</td>\n",
       "      <td>...</td>\n",
       "      <td>...</td>\n",
       "      <td>...</td>\n",
       "      <td>...</td>\n",
       "      <td>...</td>\n",
       "      <td>...</td>\n",
       "      <td>...</td>\n",
       "      <td>...</td>\n",
       "    </tr>\n",
       "    <tr>\n",
       "      <th>25627</th>\n",
       "      <td>Listera borealis</td>\n",
       "      <td>Bryce National Park</td>\n",
       "      <td>80</td>\n",
       "      <td>Vascular Plant</td>\n",
       "      <td>Northern Listera, Northern Twayblade</td>\n",
       "      <td>No intervention</td>\n",
       "      <td>1</td>\n",
       "      <td>633291</td>\n",
       "      <td>False</td>\n",
       "    </tr>\n",
       "    <tr>\n",
       "      <th>25628</th>\n",
       "      <td>Trifolium gracilentum var. gracilentum</td>\n",
       "      <td>Bryce National Park</td>\n",
       "      <td>50</td>\n",
       "      <td>Vascular Plant</td>\n",
       "      <td>Pinpoint Clover</td>\n",
       "      <td>No intervention</td>\n",
       "      <td>1</td>\n",
       "      <td>633291</td>\n",
       "      <td>False</td>\n",
       "    </tr>\n",
       "    <tr>\n",
       "      <th>25629</th>\n",
       "      <td>Ranunculus hebecarpus</td>\n",
       "      <td>Bryce National Park</td>\n",
       "      <td>108</td>\n",
       "      <td>Vascular Plant</td>\n",
       "      <td>Delicate Buttercup, Downy-Fruit Buttercup</td>\n",
       "      <td>No intervention</td>\n",
       "      <td>1</td>\n",
       "      <td>633291</td>\n",
       "      <td>False</td>\n",
       "    </tr>\n",
       "    <tr>\n",
       "      <th>25630</th>\n",
       "      <td>Gulo gulo</td>\n",
       "      <td>Bryce National Park</td>\n",
       "      <td>114</td>\n",
       "      <td>Mammal</td>\n",
       "      <td>Wolverine</td>\n",
       "      <td>No intervention</td>\n",
       "      <td>1</td>\n",
       "      <td>633291</td>\n",
       "      <td>False</td>\n",
       "    </tr>\n",
       "    <tr>\n",
       "      <th>25631</th>\n",
       "      <td>Dichanthelium depauperatum</td>\n",
       "      <td>Bryce National Park</td>\n",
       "      <td>80</td>\n",
       "      <td>Vascular Plant</td>\n",
       "      <td>Green Panic-Grass, Panic Grass</td>\n",
       "      <td>No intervention</td>\n",
       "      <td>1</td>\n",
       "      <td>633291</td>\n",
       "      <td>False</td>\n",
       "    </tr>\n",
       "  </tbody>\n",
       "</table>\n",
       "<p>25632 rows × 9 columns</p>\n",
       "</div>"
      ],
      "text/plain": [
       "                              scientific_name  \\\n",
       "0                          Vicia benghalensis   \n",
       "1                              Neovison vison   \n",
       "2                           Prunus subcordata   \n",
       "3                        Abutilon theophrasti   \n",
       "4                    Githopsis specularioides   \n",
       "...                                       ...   \n",
       "25627                        Listera borealis   \n",
       "25628  Trifolium gracilentum var. gracilentum   \n",
       "25629                   Ranunculus hebecarpus   \n",
       "25630                               Gulo gulo   \n",
       "25631              Dichanthelium depauperatum   \n",
       "\n",
       "                                 park_name  observations        category  \\\n",
       "0      Great Smoky Mountains National Park            68  Vascular Plant   \n",
       "1      Great Smoky Mountains National Park            77          Mammal   \n",
       "2      Great Smoky Mountains National Park            72  Vascular Plant   \n",
       "3      Great Smoky Mountains National Park            85  Vascular Plant   \n",
       "4      Great Smoky Mountains National Park            85  Vascular Plant   \n",
       "...                                    ...           ...             ...   \n",
       "25627                  Bryce National Park            80  Vascular Plant   \n",
       "25628                  Bryce National Park            50  Vascular Plant   \n",
       "25629                  Bryce National Park           108  Vascular Plant   \n",
       "25630                  Bryce National Park           114          Mammal   \n",
       "25631                  Bryce National Park            80  Vascular Plant   \n",
       "\n",
       "                                    common_names conservation_status  \\\n",
       "0             Purple Vetch, Reddish Tufted Vetch     No intervention   \n",
       "1                                  American Mink     No intervention   \n",
       "2                                   Klamath Plum     No intervention   \n",
       "3                                     Velvetleaf     No intervention   \n",
       "4                                 Common Bluecup     No intervention   \n",
       "...                                          ...                 ...   \n",
       "25627       Northern Listera, Northern Twayblade     No intervention   \n",
       "25628                            Pinpoint Clover     No intervention   \n",
       "25629  Delicate Buttercup, Downy-Fruit Buttercup     No intervention   \n",
       "25630                                  Wolverine     No intervention   \n",
       "25631             Green Panic-Grass, Panic Grass     No intervention   \n",
       "\n",
       "       conservation_status_code  park_observations  is_protected  \n",
       "0                             1             474863         False  \n",
       "1                             1             474863         False  \n",
       "2                             1             474863         False  \n",
       "3                             1             474863         False  \n",
       "4                             1             474863         False  \n",
       "...                         ...                ...           ...  \n",
       "25627                         1             633291         False  \n",
       "25628                         1             633291         False  \n",
       "25629                         1             633291         False  \n",
       "25630                         1             633291         False  \n",
       "25631                         1             633291         False  \n",
       "\n",
       "[25632 rows x 9 columns]"
      ]
     },
     "execution_count": 697,
     "metadata": {},
     "output_type": "execute_result"
    }
   ],
   "source": [
    "biodiv2"
   ]
  },
  {
   "cell_type": "code",
   "execution_count": 698,
   "id": "25cceb28",
   "metadata": {},
   "outputs": [],
   "source": [
    "categories_by_park = biodiv2.groupby(['park_name', 'category'])['observations'].sum().unstack()"
   ]
  },
  {
   "cell_type": "code",
   "execution_count": 699,
   "id": "089b26d6",
   "metadata": {},
   "outputs": [
    {
     "data": {
      "text/html": [
       "<div>\n",
       "<style scoped>\n",
       "    .dataframe tbody tr th:only-of-type {\n",
       "        vertical-align: middle;\n",
       "    }\n",
       "\n",
       "    .dataframe tbody tr th {\n",
       "        vertical-align: top;\n",
       "    }\n",
       "\n",
       "    .dataframe thead th {\n",
       "        text-align: right;\n",
       "    }\n",
       "</style>\n",
       "<table border=\"1\" class=\"dataframe\">\n",
       "  <thead>\n",
       "    <tr style=\"text-align: right;\">\n",
       "      <th>category</th>\n",
       "      <th>Amphibian</th>\n",
       "      <th>Bird</th>\n",
       "      <th>Fish</th>\n",
       "      <th>Mammal</th>\n",
       "      <th>Nonvascular Plant</th>\n",
       "      <th>Reptile</th>\n",
       "      <th>Vascular Plant</th>\n",
       "    </tr>\n",
       "    <tr>\n",
       "      <th>park_name</th>\n",
       "      <th></th>\n",
       "      <th></th>\n",
       "      <th></th>\n",
       "      <th></th>\n",
       "      <th></th>\n",
       "      <th></th>\n",
       "      <th></th>\n",
       "    </tr>\n",
       "  </thead>\n",
       "  <tbody>\n",
       "    <tr>\n",
       "      <th>Bryce National Park</th>\n",
       "      <td>7542</td>\n",
       "      <td>58590</td>\n",
       "      <td>12823</td>\n",
       "      <td>28830</td>\n",
       "      <td>32992</td>\n",
       "      <td>8141</td>\n",
       "      <td>484373</td>\n",
       "    </tr>\n",
       "    <tr>\n",
       "      <th>Great Smoky Mountains National Park</th>\n",
       "      <td>5876</td>\n",
       "      <td>42869</td>\n",
       "      <td>9482</td>\n",
       "      <td>21056</td>\n",
       "      <td>24857</td>\n",
       "      <td>5841</td>\n",
       "      <td>364882</td>\n",
       "    </tr>\n",
       "    <tr>\n",
       "      <th>Yellowstone National Park</th>\n",
       "      <td>19937</td>\n",
       "      <td>144300</td>\n",
       "      <td>31459</td>\n",
       "      <td>70701</td>\n",
       "      <td>83021</td>\n",
       "      <td>20061</td>\n",
       "      <td>1218162</td>\n",
       "    </tr>\n",
       "    <tr>\n",
       "      <th>Yosemite National Park</th>\n",
       "      <td>11713</td>\n",
       "      <td>86612</td>\n",
       "      <td>19137</td>\n",
       "      <td>42533</td>\n",
       "      <td>49783</td>\n",
       "      <td>11779</td>\n",
       "      <td>727895</td>\n",
       "    </tr>\n",
       "  </tbody>\n",
       "</table>\n",
       "</div>"
      ],
      "text/plain": [
       "category                             Amphibian    Bird   Fish  Mammal  \\\n",
       "park_name                                                               \n",
       "Bryce National Park                       7542   58590  12823   28830   \n",
       "Great Smoky Mountains National Park       5876   42869   9482   21056   \n",
       "Yellowstone National Park                19937  144300  31459   70701   \n",
       "Yosemite National Park                   11713   86612  19137   42533   \n",
       "\n",
       "category                             Nonvascular Plant  Reptile  \\\n",
       "park_name                                                         \n",
       "Bryce National Park                              32992     8141   \n",
       "Great Smoky Mountains National Park              24857     5841   \n",
       "Yellowstone National Park                        83021    20061   \n",
       "Yosemite National Park                           49783    11779   \n",
       "\n",
       "category                             Vascular Plant  \n",
       "park_name                                            \n",
       "Bryce National Park                          484373  \n",
       "Great Smoky Mountains National Park          364882  \n",
       "Yellowstone National Park                   1218162  \n",
       "Yosemite National Park                       727895  "
      ]
     },
     "execution_count": 699,
     "metadata": {},
     "output_type": "execute_result"
    }
   ],
   "source": [
    "categories_by_park"
   ]
  },
  {
   "cell_type": "code",
   "execution_count": 700,
   "id": "4c5e8277",
   "metadata": {},
   "outputs": [
    {
     "data": {
      "text/plain": [
       "[Text(0, 0, 'Great Smoky Mountains National Park'),\n",
       " Text(1, 0, 'Yosemite National Park'),\n",
       " Text(2, 0, 'Yellowstone National Park'),\n",
       " Text(3, 0, 'Bryce National Park')]"
      ]
     },
     "execution_count": 700,
     "metadata": {},
     "output_type": "execute_result"
    },
    {
     "data": {
      "image/png": "[encoded data removed]",
      "text/plain": [
       "<Figure size 800x800 with 1 Axes>"
      ]
     },
     "metadata": {},
     "output_type": "display_data"
    }
   ],
   "source": [
    "ax = plt.style.use('seaborn-bright')\n",
    "labels = ['Great Smoky Mountains National Park', 'Yosemite National Park',\n",
    "       'Yellowstone National Park', 'Bryce National Park']\n",
    "ax = categories_by_park.plot(kind='bar', stacked=True, figsize=(10,10))\n",
    "\n",
    "ax.set_title('Distibution of categories by park', fontsize=15)\n",
    "ax.set_xticklabels(labels=labels, rotation=45)"
   ]
  },
  {
   "cell_type": "code",
   "execution_count": 701,
   "id": "d8c78dca",
   "metadata": {},
   "outputs": [
    {
     "data": {
      "text/plain": [
       "Text(0.5, 0.98, 'Protected vs. not protected by species')"
      ]
     },
     "execution_count": 701,
     "metadata": {},
     "output_type": "execute_result"
    },
    {
     "data": {
      "image/png": "[encoded data removed]",
      "text/plain": [
       "<Figure size 883.028x800 with 1 Axes>"
      ]
     },
     "metadata": {},
     "output_type": "display_data"
    }
   ],
   "source": [
    "ax = sns.catplot(data=biodiv2, x = 'category', y='observations', hue = 'is_protected', kind='bar',  height=10, aspect=1,\\\n",
    "palette=[(0.10196078431372549, 0.788235294117647, 0.2196078431372549), (0.9098039215686274, 0.0, 0.043137254901960784)])\n",
    "ax.fig.suptitle('Protected vs. not protected by species', fontsize=16)"
   ]
  },
  {
   "cell_type": "code",
   "execution_count": 702,
   "id": "3c27d2ec",
   "metadata": {},
   "outputs": [],
   "source": [
    "birds_only = biodiv2[biodiv2['category'] == 'Bird'].reset_index(drop=True)"
   ]
  },
  {
   "cell_type": "code",
   "execution_count": 703,
   "id": "aa7cf056",
   "metadata": {},
   "outputs": [
    {
     "data": {
      "text/html": [
       "<div>\n",
       "<style scoped>\n",
       "    .dataframe tbody tr th:only-of-type {\n",
       "        vertical-align: middle;\n",
       "    }\n",
       "\n",
       "    .dataframe tbody tr th {\n",
       "        vertical-align: top;\n",
       "    }\n",
       "\n",
       "    .dataframe thead th {\n",
       "        text-align: right;\n",
       "    }\n",
       "</style>\n",
       "<table border=\"1\" class=\"dataframe\">\n",
       "  <thead>\n",
       "    <tr style=\"text-align: right;\">\n",
       "      <th></th>\n",
       "      <th>scientific_name</th>\n",
       "      <th>park_name</th>\n",
       "      <th>observations</th>\n",
       "      <th>category</th>\n",
       "      <th>common_names</th>\n",
       "      <th>conservation_status</th>\n",
       "      <th>conservation_status_code</th>\n",
       "      <th>park_observations</th>\n",
       "      <th>is_protected</th>\n",
       "    </tr>\n",
       "  </thead>\n",
       "  <tbody>\n",
       "    <tr>\n",
       "      <th>0</th>\n",
       "      <td>Spizella pusilla</td>\n",
       "      <td>Great Smoky Mountains National Park</td>\n",
       "      <td>72</td>\n",
       "      <td>Bird</td>\n",
       "      <td>Field Sparrow</td>\n",
       "      <td>No intervention</td>\n",
       "      <td>1</td>\n",
       "      <td>474863</td>\n",
       "      <td>False</td>\n",
       "    </tr>\n",
       "    <tr>\n",
       "      <th>1</th>\n",
       "      <td>Cistothorus platensis</td>\n",
       "      <td>Great Smoky Mountains National Park</td>\n",
       "      <td>65</td>\n",
       "      <td>Bird</td>\n",
       "      <td>Sedge Wren</td>\n",
       "      <td>No intervention</td>\n",
       "      <td>1</td>\n",
       "      <td>474863</td>\n",
       "      <td>False</td>\n",
       "    </tr>\n",
       "    <tr>\n",
       "      <th>2</th>\n",
       "      <td>Larus philadelphia</td>\n",
       "      <td>Great Smoky Mountains National Park</td>\n",
       "      <td>61</td>\n",
       "      <td>Bird</td>\n",
       "      <td>Bonaparte's Gull</td>\n",
       "      <td>No intervention</td>\n",
       "      <td>1</td>\n",
       "      <td>474863</td>\n",
       "      <td>False</td>\n",
       "    </tr>\n",
       "    <tr>\n",
       "      <th>3</th>\n",
       "      <td>Accipiter cooperii</td>\n",
       "      <td>Great Smoky Mountains National Park</td>\n",
       "      <td>65</td>\n",
       "      <td>Bird</td>\n",
       "      <td>Cooper's Hawk</td>\n",
       "      <td>Species of Concern</td>\n",
       "      <td>3</td>\n",
       "      <td>474863</td>\n",
       "      <td>True</td>\n",
       "    </tr>\n",
       "    <tr>\n",
       "      <th>4</th>\n",
       "      <td>Euphagus cyanocephalus</td>\n",
       "      <td>Great Smoky Mountains National Park</td>\n",
       "      <td>99</td>\n",
       "      <td>Bird</td>\n",
       "      <td>Brewer's Blackbird</td>\n",
       "      <td>No intervention</td>\n",
       "      <td>1</td>\n",
       "      <td>474863</td>\n",
       "      <td>False</td>\n",
       "    </tr>\n",
       "    <tr>\n",
       "      <th>...</th>\n",
       "      <td>...</td>\n",
       "      <td>...</td>\n",
       "      <td>...</td>\n",
       "      <td>...</td>\n",
       "      <td>...</td>\n",
       "      <td>...</td>\n",
       "      <td>...</td>\n",
       "      <td>...</td>\n",
       "      <td>...</td>\n",
       "    </tr>\n",
       "    <tr>\n",
       "      <th>2359</th>\n",
       "      <td>Melanerpes carolinus</td>\n",
       "      <td>Bryce National Park</td>\n",
       "      <td>105</td>\n",
       "      <td>Bird</td>\n",
       "      <td>Red-Bellied Woodpecker</td>\n",
       "      <td>No intervention</td>\n",
       "      <td>1</td>\n",
       "      <td>633291</td>\n",
       "      <td>False</td>\n",
       "    </tr>\n",
       "    <tr>\n",
       "      <th>2360</th>\n",
       "      <td>Empidonax virescens</td>\n",
       "      <td>Bryce National Park</td>\n",
       "      <td>96</td>\n",
       "      <td>Bird</td>\n",
       "      <td>Acadian Flycatcher</td>\n",
       "      <td>No intervention</td>\n",
       "      <td>1</td>\n",
       "      <td>633291</td>\n",
       "      <td>False</td>\n",
       "    </tr>\n",
       "    <tr>\n",
       "      <th>2361</th>\n",
       "      <td>Charadrius vociferus</td>\n",
       "      <td>Bryce National Park</td>\n",
       "      <td>84</td>\n",
       "      <td>Bird</td>\n",
       "      <td>Killdeer</td>\n",
       "      <td>No intervention</td>\n",
       "      <td>1</td>\n",
       "      <td>633291</td>\n",
       "      <td>False</td>\n",
       "    </tr>\n",
       "    <tr>\n",
       "      <th>2362</th>\n",
       "      <td>Pavo cristatus</td>\n",
       "      <td>Bryce National Park</td>\n",
       "      <td>83</td>\n",
       "      <td>Bird</td>\n",
       "      <td>Peacock</td>\n",
       "      <td>No intervention</td>\n",
       "      <td>1</td>\n",
       "      <td>633291</td>\n",
       "      <td>False</td>\n",
       "    </tr>\n",
       "    <tr>\n",
       "      <th>2363</th>\n",
       "      <td>Agelaius phoeniceus</td>\n",
       "      <td>Bryce National Park</td>\n",
       "      <td>97</td>\n",
       "      <td>Bird</td>\n",
       "      <td>Red-Winged Blackbird</td>\n",
       "      <td>No intervention</td>\n",
       "      <td>1</td>\n",
       "      <td>633291</td>\n",
       "      <td>False</td>\n",
       "    </tr>\n",
       "  </tbody>\n",
       "</table>\n",
       "<p>2364 rows × 9 columns</p>\n",
       "</div>"
      ],
      "text/plain": [
       "             scientific_name                            park_name  \\\n",
       "0           Spizella pusilla  Great Smoky Mountains National Park   \n",
       "1      Cistothorus platensis  Great Smoky Mountains National Park   \n",
       "2         Larus philadelphia  Great Smoky Mountains National Park   \n",
       "3         Accipiter cooperii  Great Smoky Mountains National Park   \n",
       "4     Euphagus cyanocephalus  Great Smoky Mountains National Park   \n",
       "...                      ...                                  ...   \n",
       "2359    Melanerpes carolinus                  Bryce National Park   \n",
       "2360     Empidonax virescens                  Bryce National Park   \n",
       "2361    Charadrius vociferus                  Bryce National Park   \n",
       "2362          Pavo cristatus                  Bryce National Park   \n",
       "2363     Agelaius phoeniceus                  Bryce National Park   \n",
       "\n",
       "      observations category            common_names conservation_status  \\\n",
       "0               72     Bird           Field Sparrow     No intervention   \n",
       "1               65     Bird              Sedge Wren     No intervention   \n",
       "2               61     Bird        Bonaparte's Gull     No intervention   \n",
       "3               65     Bird           Cooper's Hawk  Species of Concern   \n",
       "4               99     Bird      Brewer's Blackbird     No intervention   \n",
       "...            ...      ...                     ...                 ...   \n",
       "2359           105     Bird  Red-Bellied Woodpecker     No intervention   \n",
       "2360            96     Bird      Acadian Flycatcher     No intervention   \n",
       "2361            84     Bird                Killdeer     No intervention   \n",
       "2362            83     Bird                 Peacock     No intervention   \n",
       "2363            97     Bird    Red-Winged Blackbird     No intervention   \n",
       "\n",
       "      conservation_status_code  park_observations  is_protected  \n",
       "0                            1             474863         False  \n",
       "1                            1             474863         False  \n",
       "2                            1             474863         False  \n",
       "3                            3             474863          True  \n",
       "4                            1             474863         False  \n",
       "...                        ...                ...           ...  \n",
       "2359                         1             633291         False  \n",
       "2360                         1             633291         False  \n",
       "2361                         1             633291         False  \n",
       "2362                         1             633291         False  \n",
       "2363                         1             633291         False  \n",
       "\n",
       "[2364 rows x 9 columns]"
      ]
     },
     "metadata": {},
     "output_type": "display_data"
    }
   ],
   "source": [
    "birds_only.shape\n",
    "display(birds_only)"
   ]
  },
  {
   "cell_type": "code",
   "execution_count": 704,
   "id": "d712516f",
   "metadata": {},
   "outputs": [
    {
     "data": {
      "text/plain": [
       "488"
      ]
     },
     "execution_count": 704,
     "metadata": {},
     "output_type": "execute_result"
    }
   ],
   "source": [
    "birds_only['scientific_name'].nunique()"
   ]
  },
  {
   "cell_type": "code",
   "execution_count": 705,
   "id": "71887056",
   "metadata": {},
   "outputs": [
    {
     "data": {
      "text/plain": [
       "park_name\n",
       "Bryce National Park                     58590\n",
       "Great Smoky Mountains National Park     42869\n",
       "Yellowstone National Park              144300\n",
       "Yosemite National Park                  86612\n",
       "Name: observations, dtype: int64"
      ]
     },
     "execution_count": 705,
     "metadata": {},
     "output_type": "execute_result"
    }
   ],
   "source": [
    "birds_by_park = birds_only.groupby(['park_name'])['observations'].sum()\n",
    "birds_by_park"
   ]
  },
  {
   "cell_type": "code",
   "execution_count": 706,
   "id": "f3144125",
   "metadata": {},
   "outputs": [
    {
     "data": {
      "image/png": "[encoded data removed]",
      "text/plain": [
       "<Figure size 800x800 with 1 Axes>"
      ]
     },
     "metadata": {},
     "output_type": "display_data"
    }
   ],
   "source": [
    "ax = sns.violinplot(x ='observations', y ='park_name', data = birds_only, hue='is_protected', split=True,\\\n",
    "palette=[(0.10196078431372549, 0.788235294117647, 0.2196078431372549), (0.9098039215686274, 0.0, 0.043137254901960784)])\\\n",
    ".set(title='Birds distribution in each park')"
   ]
  },
  {
   "cell_type": "code",
   "execution_count": 707,
   "id": "167552ca",
   "metadata": {},
   "outputs": [
    {
     "data": {
      "text/plain": [
       "conservation_status\n",
       "Endangered               574\n",
       "In Recovery             1392\n",
       "No intervention       289647\n",
       "Species of Concern     40758\n",
       "Name: observations, dtype: int64"
      ]
     },
     "metadata": {},
     "output_type": "display_data"
    }
   ],
   "source": [
    "birds_only_status = birds_only.groupby(['conservation_status'])['observations'].sum()\n",
    "display(birds_only_status)"
   ]
  },
  {
   "cell_type": "code",
   "execution_count": 708,
   "id": "21f43a94",
   "metadata": {},
   "outputs": [
    {
     "data": {
      "text/html": [
       "<div>\n",
       "<style scoped>\n",
       "    .dataframe tbody tr th:only-of-type {\n",
       "        vertical-align: middle;\n",
       "    }\n",
       "\n",
       "    .dataframe tbody tr th {\n",
       "        vertical-align: top;\n",
       "    }\n",
       "\n",
       "    .dataframe thead th {\n",
       "        text-align: right;\n",
       "    }\n",
       "</style>\n",
       "<table border=\"1\" class=\"dataframe\">\n",
       "  <thead>\n",
       "    <tr style=\"text-align: right;\">\n",
       "      <th>conservation_status</th>\n",
       "      <th>Endangered</th>\n",
       "      <th>In Recovery</th>\n",
       "      <th>No intervention</th>\n",
       "      <th>Species of Concern</th>\n",
       "      <th>protection_pct</th>\n",
       "    </tr>\n",
       "    <tr>\n",
       "      <th>park_name</th>\n",
       "      <th></th>\n",
       "      <th></th>\n",
       "      <th></th>\n",
       "      <th></th>\n",
       "      <th></th>\n",
       "    </tr>\n",
       "  </thead>\n",
       "  <tbody>\n",
       "    <tr>\n",
       "      <th>Bryce National Park</th>\n",
       "      <td>98</td>\n",
       "      <td>258</td>\n",
       "      <td>50982</td>\n",
       "      <td>7252</td>\n",
       "      <td>12.99</td>\n",
       "    </tr>\n",
       "    <tr>\n",
       "      <th>Great Smoky Mountains National Park</th>\n",
       "      <td>61</td>\n",
       "      <td>189</td>\n",
       "      <td>37572</td>\n",
       "      <td>5047</td>\n",
       "      <td>12.36</td>\n",
       "    </tr>\n",
       "    <tr>\n",
       "      <th>Yellowstone National Park</th>\n",
       "      <td>243</td>\n",
       "      <td>559</td>\n",
       "      <td>125774</td>\n",
       "      <td>17724</td>\n",
       "      <td>12.84</td>\n",
       "    </tr>\n",
       "    <tr>\n",
       "      <th>Yosemite National Park</th>\n",
       "      <td>172</td>\n",
       "      <td>386</td>\n",
       "      <td>75319</td>\n",
       "      <td>10735</td>\n",
       "      <td>13.04</td>\n",
       "    </tr>\n",
       "  </tbody>\n",
       "</table>\n",
       "</div>"
      ],
      "text/plain": [
       "conservation_status                  Endangered  In Recovery  No intervention  \\\n",
       "park_name                                                                       \n",
       "Bryce National Park                          98          258            50982   \n",
       "Great Smoky Mountains National Park          61          189            37572   \n",
       "Yellowstone National Park                   243          559           125774   \n",
       "Yosemite National Park                      172          386            75319   \n",
       "\n",
       "conservation_status                  Species of Concern  protection_pct  \n",
       "park_name                                                                \n",
       "Bryce National Park                                7252           12.99  \n",
       "Great Smoky Mountains National Park                5047           12.36  \n",
       "Yellowstone National Park                         17724           12.84  \n",
       "Yosemite National Park                            10735           13.04  "
      ]
     },
     "metadata": {},
     "output_type": "display_data"
    }
   ],
   "source": [
    "birds_status_by_park = birds_only.groupby(['park_name','conservation_status'])['observations'].sum().unstack()\n",
    "birds_status_by_park['protection_pct'] = birds_status_by_park.apply(lambda x:round(((x['Endangered']+x['In Recovery']+x['Species of Concern'])/(x['Endangered']+x['In Recovery']+x['Species of Concern']+x['No intervention']))*100,2), axis=1) \n",
    "\n",
    "display(birds_status_by_park)"
   ]
  },
  {
   "cell_type": "code",
   "execution_count": 709,
   "id": "26877a84",
   "metadata": {},
   "outputs": [
    {
     "data": {
      "text/html": [
       "<div>\n",
       "<style scoped>\n",
       "    .dataframe tbody tr th:only-of-type {\n",
       "        vertical-align: middle;\n",
       "    }\n",
       "\n",
       "    .dataframe tbody tr th {\n",
       "        vertical-align: top;\n",
       "    }\n",
       "\n",
       "    .dataframe thead th {\n",
       "        text-align: right;\n",
       "    }\n",
       "</style>\n",
       "<table border=\"1\" class=\"dataframe\">\n",
       "  <thead>\n",
       "    <tr style=\"text-align: right;\">\n",
       "      <th>scientific_name</th>\n",
       "      <th>Grus americana</th>\n",
       "      <th>Gymnogyps californianus</th>\n",
       "      <th>Picoides borealis</th>\n",
       "      <th>Vermivora bachmanii</th>\n",
       "    </tr>\n",
       "    <tr>\n",
       "      <th>park_name</th>\n",
       "      <th></th>\n",
       "      <th></th>\n",
       "      <th></th>\n",
       "      <th></th>\n",
       "    </tr>\n",
       "  </thead>\n",
       "  <tbody>\n",
       "    <tr>\n",
       "      <th>Bryce National Park</th>\n",
       "      <td>24</td>\n",
       "      <td>30</td>\n",
       "      <td>24</td>\n",
       "      <td>20</td>\n",
       "    </tr>\n",
       "    <tr>\n",
       "      <th>Great Smoky Mountains National Park</th>\n",
       "      <td>13</td>\n",
       "      <td>15</td>\n",
       "      <td>15</td>\n",
       "      <td>18</td>\n",
       "    </tr>\n",
       "    <tr>\n",
       "      <th>Yellowstone National Park</th>\n",
       "      <td>57</td>\n",
       "      <td>64</td>\n",
       "      <td>64</td>\n",
       "      <td>58</td>\n",
       "    </tr>\n",
       "    <tr>\n",
       "      <th>Yosemite National Park</th>\n",
       "      <td>37</td>\n",
       "      <td>47</td>\n",
       "      <td>43</td>\n",
       "      <td>45</td>\n",
       "    </tr>\n",
       "  </tbody>\n",
       "</table>\n",
       "</div>"
      ],
      "text/plain": [
       "scientific_name                      Grus americana  Gymnogyps californianus  \\\n",
       "park_name                                                                      \n",
       "Bryce National Park                              24                       30   \n",
       "Great Smoky Mountains National Park              13                       15   \n",
       "Yellowstone National Park                        57                       64   \n",
       "Yosemite National Park                           37                       47   \n",
       "\n",
       "scientific_name                      Picoides borealis  Vermivora bachmanii  \n",
       "park_name                                                                    \n",
       "Bryce National Park                                 24                   20  \n",
       "Great Smoky Mountains National Park                 15                   18  \n",
       "Yellowstone National Park                           64                   58  \n",
       "Yosemite National Park                              43                   45  "
      ]
     },
     "metadata": {},
     "output_type": "display_data"
    }
   ],
   "source": [
    "protected_birds_only = birds_only[birds_only['conservation_status'] == 'Endangered'].reset_index(drop=True)\n",
    "protected_birds_by_park = protected_birds_only.groupby(['park_name', 'scientific_name'])['observations'].sum().unstack()\n",
    "display(protected_birds_by_park)"
   ]
  },
  {
   "cell_type": "markdown",
   "id": "fb58c6d0",
   "metadata": {},
   "source": [
    "### Conclusions\n",
    "The most endangered species in US National Parks are Grus americana, Gymnogyps californianus, Picoides borealis and\tVermivora bachmanii."
   ]
  },
  {
   "cell_type": "markdown",
   "id": "b3aee994",
   "metadata": {},
   "source": [
    "#### *Grus americana* - common name *Whooping crane*<br> \n",
    "is the tallest North American bird. It is an endangered crane species. Along with the sandhill crane (Antigone canadensis), it is one of only two crane species native to North America. <br>**The whooping crane's lifespan is estimated to be 22 to 24 years in the wild.** After being pushed to the brink of extinction by unregulated hunting and loss of habitat to just 21 wild and two captive whooping cranes by 1941, conservation efforts have led to a limited recovery.**The total number of cranes in the surviving migratory population, plus three reintroduced flocks and in captivity, now exceeds 800 birds.**"
   ]
  },
  {
   "cell_type": "markdown",
   "id": "2decbe5e",
   "metadata": {},
   "source": [
    "<img src=\"https://upload.wikimedia.org/wikipedia/commons/thumb/7/7f/Grus_americana_Sasata.jpg/640px-Grus_americana_Sasata.jpg\" alt=\"Gymnogyps californianus\" style=\"height: 200px; width:100px;\" align='centre'/>"
   ]
  },
  {
   "cell_type": "markdown",
   "id": "382b2541",
   "metadata": {},
   "source": [
    " #### *Gymnogyps californianus* - common name *California condor*  <br>\n",
    "is a New World vulture and the largest North American land bird. It became extinct in the wild in 1987 when all remaining wild individuals were captured, but has since been reintroduced to northern Arizona and southern Utah (including the Grand Canyon area and Zion National Park), the coastal mountains of California, and northern Baja California in Mexico. Although four other fossil members are known, it is the only surviving member of the genus Gymnogyps. **The species is listed by the International Union for the Conservation of Nature as Critically Endangered.**"
   ]
  },
  {
   "attachments": {},
   "cell_type": "markdown",
   "id": "01e7abd0",
   "metadata": {},
   "source": [
    "<img src=\"https://a4.pbase.com/o4/29/500829/1/61203797._MG_5277.jpg\" alt=\"Gymnogyps californianus\" style=\"height: 100px; width:100px;\" align='centre'/>"
   ]
  },
  {
   "cell_type": "markdown",
   "id": "84112ea5",
   "metadata": {},
   "source": [
    "#### *Picoides borealis* - common name *Red-cockaded Woodpecker*<br>\n",
    "\n",
    "is a woodpecker **endemic to the southeastern United States.** Small to mid-sized species, being intermediate in size between North America's two most widespread woodpeckers (the downy and hairy woodpeckers). The red-cockaded woodpecker feeds primarily on ants, beetles, cockroaches, caterpillars, wood-boring insects, and spiders, and occasionally fruit and berries. The vast majority of foraging is on pines, with a strong preference for large trees, though they will occasionally forage on hardwoods and even on corn earworms in cornfields."
   ]
  },
  {
   "cell_type": "markdown",
   "id": "088c3431",
   "metadata": {},
   "source": [
    "<img src=\"https://i.pinimg.com/474x/d6/bc/75/d6bc7532a09faf92f4e85a2876dfd519.jpg\" alt=\"Picoides borealis\" style=\"height: 100px; width:100px;\" align='centre'/>"
   ]
  },
  {
   "cell_type": "markdown",
   "id": "fc6df5a0",
   "metadata": {},
   "source": [
    "#### *Vermivora bachmanii* - common name *Bachman's warbler*<br>\n",
    "is a small possibly extinct passerine migratory bird. This warbler was a migrant, breeding in swampy blackberry and cane thickets of the Southeastern and Midwestern United States and wintering in Cuba. There are some reports of the bird from the twenty-first century, but none are widely accepted. Some authorities accept a sighting in Louisiana, in August 1988 as confirmed, but the last uncontroversial sightings date to the 1960s."
   ]
  },
  {
   "cell_type": "markdown",
   "id": "17b2be86",
   "metadata": {},
   "source": [
    "<img src=\"https://assets.whatbird.com/api/image/birds_na_147/image/63878\" alt=\"Vermivora bachmanii\" style=\"height: 100px; width:100px;\" align='centre'/>"
   ]
  }
 ],
 "metadata": {
  "kernelspec": {
   "display_name": "Python 3 (ipykernel)",
   "language": "python",
   "name": "python3"
  },
  "language_info": {
   "codemirror_mode": {
    "name": "ipython",
    "version": 3
   },
   "file_extension": ".py",
   "mimetype": "text/x-python",
   "name": "python",
   "nbconvert_exporter": "python",
   "pygments_lexer": "ipython3",
   "version": "3.9.0"
  }
 },
 "nbformat": 4,
 "nbformat_minor": 5
}
